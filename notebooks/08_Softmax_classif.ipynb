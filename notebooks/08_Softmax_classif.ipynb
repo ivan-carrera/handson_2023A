{
 "cells": [
  {
   "cell_type": "markdown",
   "source": [
    "# 8 Softmax Algorithm for Classification\n",
    "The Softmax algorithm is a mathematical function that converts a vector of real numbers into a probability distribution. It is commonly used in machine learning and deep learning models to assign probabilities to multiple classes or categories.\n",
    "\n",
    "The Softmax function takes an input vector of real numbers and transforms it into a probability distribution where each element represents the probability of the corresponding class. The output values are non-negative and sum up to 1, making it suitable for multi-class classification problems.\n",
    "\n",
    "Mathematically, the Softmax function is defined as follows:\n",
    "\n",
    "$softmax(x_i) = exp(x_i) / sum(exp(x_j))$ for all $j$\n",
    "\n",
    "where $x_i$ is the $i$-th element of the input vector $x$, $exp$ denotes the exponential function, and the $sum$ is taken over all elements of the vector."
   ],
   "metadata": {
    "collapsed": false
   }
  },
  {
   "cell_type": "markdown",
   "source": [
    "Exercise: Handwritten Digit Classification\n",
    "\n",
    "In this exercise, you'll build a neural network model using PyTorch to classify handwritten digits from the Fashion-MNIST dataset.\n",
    "\n",
    "Fashion-MNIST: Similar to MNIST, the Fashion-MNIST dataset consists of 28x28 grayscale images. However, instead of handwritten digits, it contains images of fashion items like clothing, shoes, and accessories. It serves as an alternative benchmark for image classification tasks.\n",
    "\n",
    "Step 1: Import the necessary libraries and load the dataset."
   ],
   "metadata": {
    "collapsed": false
   }
  },
  {
   "cell_type": "code",
   "execution_count": 40,
   "metadata": {
    "collapsed": true
   },
   "outputs": [],
   "source": [
    "import torch\n",
    "import torch.nn as nn\n",
    "import torch.optim as optim\n",
    "from torchvision import datasets, transforms"
   ]
  },
  {
   "cell_type": "markdown",
   "source": [
    "Check if you can use your GPU"
   ],
   "metadata": {
    "collapsed": false
   }
  },
  {
   "cell_type": "code",
   "execution_count": 41,
   "outputs": [],
   "source": [
    "device = torch.device(\"cuda:0\" if torch.cuda.is_available() else \"cpu\")"
   ],
   "metadata": {
    "collapsed": false
   }
  },
  {
   "cell_type": "markdown",
   "source": [
    "Let's inspect and see if our database works"
   ],
   "metadata": {
    "collapsed": false
   }
  },
  {
   "cell_type": "code",
   "execution_count": 42,
   "outputs": [
    {
     "data": {
      "text/plain": "<Figure size 640x480 with 1 Axes>",
      "image/png": "[encoded data removed]"
     },
     "metadata": {},
     "output_type": "display_data"
    },
    {
     "data": {
      "text/plain": "<Figure size 640x480 with 1 Axes>",
      "image/png": "[encoded data removed]"
     },
     "metadata": {},
     "output_type": "display_data"
    },
    {
     "data": {
      "text/plain": "<Figure size 640x480 with 1 Axes>",
      "image/png": "[encoded data removed]"
     },
     "metadata": {},
     "output_type": "display_data"
    },
    {
     "data": {
      "text/plain": "<Figure size 640x480 with 1 Axes>",
      "image/png": "[encoded data removed]"
     },
     "metadata": {},
     "output_type": "display_data"
    }
   ],
   "source": [
    "import matplotlib.pyplot as plt\n",
    "\n",
    "#Define data transformations\n",
    "transform = transforms.Compose([\n",
    "    transforms.ToTensor(),\n",
    "])\n",
    "\n",
    "# Load the FashionMNIST dataset\n",
    "train_dataset = datasets.FashionMNIST(root='../data', train=True, transform=transform, download=True)\n",
    "# Define the class labels\n",
    "class_labels = ['T-shirt/top', 'Trouser', 'Pullover', 'Dress', 'Coat',\n",
    "                'Sandal', 'Shirt', 'Sneaker', 'Bag', 'Ankle boot']\n",
    "\n",
    "# Visualize the first 4 images and labels\n",
    "for i in range(4):\n",
    "    image, label = train_dataset[i]\n",
    "    plt.imshow(image.squeeze(), cmap='gray')\n",
    "    plt.title(class_labels[label])\n",
    "    plt.axis('off')\n",
    "    plt.show()\n"
   ],
   "metadata": {
    "collapsed": false
   }
  },
  {
   "cell_type": "markdown",
   "source": [
    "Now we create our loaders"
   ],
   "metadata": {
    "collapsed": false
   }
  },
  {
   "cell_type": "code",
   "execution_count": 43,
   "outputs": [],
   "source": [
    "# Set random seed for reproducibility\n",
    "torch.manual_seed(42)\n",
    "\n",
    "# Define data transformations\n",
    "transform = transforms.Compose([\n",
    "    transforms.ToTensor(),\n",
    "    transforms.Normalize((0.2860,), (0.3530,))\n",
    "])\n",
    "\n",
    "test_dataset = datasets.FashionMNIST(\n",
    "    root='./data',\n",
    "    train=False,\n",
    "    transform=transform,\n",
    "    download=True\n",
    ")\n",
    "\n",
    "# Define data loaders\n",
    "train_loader = torch.utils.data.DataLoader(\n",
    "    dataset=train_dataset,\n",
    "    batch_size=64,\n",
    "    shuffle=True\n",
    ")\n",
    "\n",
    "test_loader = torch.utils.data.DataLoader(\n",
    "    dataset=test_dataset,\n",
    "    batch_size=64,\n",
    "    shuffle=False\n",
    ")"
   ],
   "metadata": {
    "collapsed": false
   }
  },
  {
   "cell_type": "markdown",
   "source": [
    "Step 2: Define the neural network model."
   ],
   "metadata": {
    "collapsed": false
   }
  },
  {
   "cell_type": "code",
   "execution_count": 44,
   "outputs": [],
   "source": [
    "class Net(nn.Module):\n",
    "    def __init__(self):\n",
    "        super(Net, self).__init__()\n",
    "        self.fc = nn.Linear(784, 10)\n",
    "\n",
    "    def forward(self, x):\n",
    "        x = x.view(-1, 784)\n",
    "        x = self.fc(x)\n",
    "        return x\n",
    "\n",
    "model = Net()\n"
   ],
   "metadata": {
    "collapsed": false
   }
  },
  {
   "cell_type": "markdown",
   "source": [
    "Step 3: Define the loss function, optimizer, and training loop.\n",
    "The Softmax function is implicitly applied during the forward pass as part of the CrossEntropyLoss. The model is then trained using stochastic gradient descent (SGD) optimizer and evaluated on a separate test dataset."
   ],
   "metadata": {
    "collapsed": false
   }
  },
  {
   "cell_type": "code",
   "execution_count": 45,
   "outputs": [
    {
     "name": "stdout",
     "output_type": "stream",
     "text": [
      "Epoch [1/5], Step [100/938], Loss: 1.0280\n",
      "Epoch [1/5], Step [200/938], Loss: 0.6620\n",
      "Epoch [1/5], Step [300/938], Loss: 0.6114\n",
      "Epoch [1/5], Step [400/938], Loss: 0.5748\n",
      "Epoch [1/5], Step [500/938], Loss: 0.5699\n",
      "Epoch [1/5], Step [600/938], Loss: 0.5287\n",
      "Epoch [1/5], Step [700/938], Loss: 0.5375\n",
      "Epoch [1/5], Step [800/938], Loss: 0.5358\n",
      "Epoch [1/5], Step [900/938], Loss: 0.5082\n",
      "Epoch [2/5], Step [100/938], Loss: 0.4992\n",
      "Epoch [2/5], Step [200/938], Loss: 0.4686\n",
      "Epoch [2/5], Step [300/938], Loss: 0.4945\n",
      "Epoch [2/5], Step [400/938], Loss: 0.4862\n",
      "Epoch [2/5], Step [500/938], Loss: 0.4658\n",
      "Epoch [2/5], Step [600/938], Loss: 0.4837\n",
      "Epoch [2/5], Step [700/938], Loss: 0.4694\n",
      "Epoch [2/5], Step [800/938], Loss: 0.4726\n",
      "Epoch [2/5], Step [900/938], Loss: 0.4771\n",
      "Epoch [3/5], Step [100/938], Loss: 0.4668\n",
      "Epoch [3/5], Step [200/938], Loss: 0.4761\n",
      "Epoch [3/5], Step [300/938], Loss: 0.4479\n",
      "Epoch [3/5], Step [400/938], Loss: 0.4684\n",
      "Epoch [3/5], Step [500/938], Loss: 0.4464\n",
      "Epoch [3/5], Step [600/938], Loss: 0.4500\n",
      "Epoch [3/5], Step [700/938], Loss: 0.4469\n",
      "Epoch [3/5], Step [800/938], Loss: 0.4379\n",
      "Epoch [3/5], Step [900/938], Loss: 0.4587\n",
      "Epoch [4/5], Step [100/938], Loss: 0.4365\n",
      "Epoch [4/5], Step [200/938], Loss: 0.4411\n",
      "Epoch [4/5], Step [300/938], Loss: 0.4283\n",
      "Epoch [4/5], Step [400/938], Loss: 0.4536\n",
      "Epoch [4/5], Step [500/938], Loss: 0.4361\n",
      "Epoch [4/5], Step [600/938], Loss: 0.4418\n",
      "Epoch [4/5], Step [700/938], Loss: 0.4447\n",
      "Epoch [4/5], Step [800/938], Loss: 0.4551\n",
      "Epoch [4/5], Step [900/938], Loss: 0.4231\n",
      "Epoch [5/5], Step [100/938], Loss: 0.4342\n",
      "Epoch [5/5], Step [200/938], Loss: 0.4131\n",
      "Epoch [5/5], Step [300/938], Loss: 0.4357\n",
      "Epoch [5/5], Step [400/938], Loss: 0.4206\n",
      "Epoch [5/5], Step [500/938], Loss: 0.4429\n",
      "Epoch [5/5], Step [600/938], Loss: 0.4428\n",
      "Epoch [5/5], Step [700/938], Loss: 0.4419\n",
      "Epoch [5/5], Step [800/938], Loss: 0.4319\n",
      "Epoch [5/5], Step [900/938], Loss: 0.4334\n"
     ]
    }
   ],
   "source": [
    "criterion = nn.CrossEntropyLoss()\n",
    "optimizer = optim.SGD(model.parameters(), lr=0.01, momentum=0.9)\n",
    "\n",
    "def train(model, train_loader, optimizer, criterion, epochs):\n",
    "    model.train()\n",
    "    for epoch in range(epochs):\n",
    "        running_loss = 0.0\n",
    "        for i, (images, labels) in enumerate(train_loader):\n",
    "            optimizer.zero_grad()\n",
    "            outputs = model(images)\n",
    "            loss = criterion(outputs, labels)\n",
    "            loss.backward()\n",
    "            optimizer.step()\n",
    "            running_loss += loss.item()\n",
    "\n",
    "            if (i+1) % 100 == 0:\n",
    "                print('Epoch [{}/{}], Step [{}/{}], Loss: {:.4f}'.format(\n",
    "                    epoch+1, epochs, i+1, len(train_loader), running_loss / 100))\n",
    "                running_loss = 0.0\n",
    "\n",
    "train(model, train_loader, optimizer, criterion, epochs=5)\n"
   ],
   "metadata": {
    "collapsed": false
   }
  },
  {
   "cell_type": "markdown",
   "source": [
    "Step 4: Evaluate the trained model on the test dataset."
   ],
   "metadata": {
    "collapsed": false
   }
  },
  {
   "cell_type": "code",
   "execution_count": 46,
   "outputs": [
    {
     "name": "stdout",
     "output_type": "stream",
     "text": [
      "Accuracy on the test set: 70.47%\n"
     ]
    }
   ],
   "source": [
    "def test(model, test_loader):\n",
    "    model.eval()\n",
    "    correct = 0\n",
    "    total = 0\n",
    "    with torch.no_grad():\n",
    "        for images, labels in test_loader:\n",
    "            outputs = model(images)\n",
    "            _, predicted = torch.max(outputs.data, 1)\n",
    "            total += labels.size(0)\n",
    "            correct += (predicted == labels).sum().item()\n",
    "\n",
    "    print('Accuracy on the test set: {:.2f}%'.format(100 * correct / total))\n",
    "\n",
    "test(model, test_loader)\n"
   ],
   "metadata": {
    "collapsed": false
   }
  },
  {
   "cell_type": "code",
   "execution_count": 47,
   "outputs": [
    {
     "name": "stdout",
     "output_type": "stream",
     "text": [
      "Predicted Probability: tensor([0.9952, 0.9978, 1.0000, 1.0000, 0.6859, 0.9998, 1.0000, 0.9728, 0.6319,\n",
      "        1.0000, 0.9999, 0.8133, 0.6174, 1.0000, 1.0000, 0.9997, 0.9845, 0.9859,\n",
      "        0.8168, 0.9999, 0.8571, 0.9974, 1.0000, 0.9992, 1.0000, 0.9223, 0.9729,\n",
      "        0.9965, 0.9957, 0.7693, 0.5452, 0.9873, 1.0000, 1.0000, 0.9997, 0.9871,\n",
      "        1.0000, 0.9888, 1.0000, 0.9591, 0.8453, 1.0000, 0.8201, 1.0000, 0.9385,\n",
      "        0.9991, 0.9890, 0.9986, 0.9506, 0.6932, 0.9969, 0.9181, 0.8176, 0.9967,\n",
      "        0.9013, 0.9998, 0.8927, 0.9963, 0.5443, 0.9976, 1.0000, 1.0000, 0.9762,\n",
      "        0.9985])\n",
      "Predicted Label: tensor([7, 2, 1, 1, 4, 1, 4, 4, 7, 7, 4, 5, 5, 3, 4, 1, 2, 4, 5, 0, 2, 7, 7, 7,\n",
      "        1, 4, 4, 3, 7, 4, 8, 3, 3, 3, 5, 0, 7, 5, 7, 9, 0, 1, 4, 7, 4, 7, 2, 1,\n",
      "        4, 6, 4, 4, 7, 6, 4, 2, 8, 4, 7, 0, 7, 7, 7, 5])\n",
      "Labels: tensor([9, 2, 1, 1, 6, 1, 4, 6, 5, 7, 4, 5, 7, 3, 4, 1, 2, 4, 8, 0, 2, 5, 7, 9,\n",
      "        1, 4, 6, 0, 9, 3, 8, 8, 3, 3, 8, 0, 7, 5, 7, 9, 6, 1, 3, 7, 6, 7, 2, 1,\n",
      "        2, 2, 4, 4, 5, 8, 2, 2, 8, 4, 8, 0, 7, 7, 8, 5])\n"
     ]
    }
   ],
   "source": [
    "# Set the model to evaluation mode\n",
    "model.eval()\n",
    "\n",
    "# Iterate through the test dataset and calculate the probabilities\n",
    "with torch.no_grad():\n",
    "    for images, labels in test_loader:\n",
    "        outputs = model(images)\n",
    "        _, predicted = torch.max(outputs.data, dim=1)\n",
    "        probabilities = nn.functional.softmax(outputs.data, dim=1)\n",
    "        predicted_prob, predicted_label = torch.max(probabilities, dim=1)\n",
    "\n",
    "        # Print the predicted probability and label\n",
    "        print('Predicted Probability:', predicted_prob)\n",
    "        print('Predicted Label:', predicted_label)\n",
    "        print('Labels:', labels)\n",
    "        break  # Stop after the first iteration"
   ],
   "metadata": {
    "collapsed": false
   }
  },
  {
   "cell_type": "code",
   "execution_count": 48,
   "outputs": [
    {
     "data": {
      "text/plain": "<Figure size 640x480 with 1 Axes>",
      "image/png": "[encoded data removed]"
     },
     "metadata": {},
     "output_type": "display_data"
    }
   ],
   "source": [
    "image, label = test_dataset[0]\n",
    "plt.imshow(image.squeeze(), cmap='gray')\n",
    "plt.title(class_labels[label])\n",
    "plt.axis('off')\n",
    "plt.show()"
   ],
   "metadata": {
    "collapsed": false
   }
  },
  {
   "cell_type": "code",
   "execution_count": 48,
   "outputs": [],
   "source": [],
   "metadata": {
    "collapsed": false
   }
  }
 ],
 "metadata": {
  "kernelspec": {
   "display_name": "Python 3",
   "language": "python",
   "name": "python3"
  },
  "language_info": {
   "codemirror_mode": {
    "name": "ipython",
    "version": 2
   },
   "file_extension": ".py",
   "mimetype": "text/x-python",
   "name": "python",
   "nbconvert_exporter": "python",
   "pygments_lexer": "ipython2",
   "version": "2.7.6"
  }
 },
 "nbformat": 4,
 "nbformat_minor": 0
}
