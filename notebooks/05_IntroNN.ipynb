{
 "cells": [
  {
   "cell_type": "markdown",
   "source": [
    "# 5 Introduction to Neural Networks in Python\n",
    "\n",
    "Neural networks have revolutionized the field of AI and are the backbone of many cutting-edge technologies we interact with daily. Understanding the basics of neural networks is crucial for anyone interested in ML and AI, as they provide the foundation to explore more advanced techniques and contribute to groundbreaking innovations."
   ],
   "metadata": {
    "collapsed": false
   }
  },
  {
   "cell_type": "markdown",
   "source": [
    "## Exercise: Building a Neural Network Classifier\n",
    "\n",
    "Objective: Build a neural network classifier using TensorFlow and apply it to a classification task."
   ],
   "metadata": {
    "collapsed": false
   }
  },
  {
   "cell_type": "markdown",
   "source": [],
   "metadata": {
    "collapsed": false
   }
  },
  {
   "cell_type": "code",
   "execution_count": null,
   "outputs": [],
   "source": [
    "import tensorflow as tf\n",
    "from tensorflow import keras"
   ],
   "metadata": {
    "collapsed": false
   }
  },
  {
   "cell_type": "markdown",
   "source": [
    "For this example, we'll use the MNIST handwritten digits dataset. We have to split the dataset it into training and testing sets.\n",
    "The MNIST dataset is loaded using keras.datasets.mnist.load_data(), and the pixel values are normalized to the range of 0 to 1."
   ],
   "metadata": {
    "collapsed": false
   }
  },
  {
   "cell_type": "code",
   "execution_count": null,
   "outputs": [],
   "source": [
    "# Divide dataset into Train and Test sets\n",
    "(x_train, y_train), (x_test, y_test) = keras.datasets.mnist.load_data()\n",
    "# Normalize pixel values to the range of 0 to 1\n",
    "x_train = x_train / 255.0\n",
    "x_test = x_test / 255.0"
   ],
   "metadata": {
    "collapsed": false
   }
  },
  {
   "cell_type": "markdown",
   "source": [
    "Neural Network Architecture: A sequential model is defined using keras.Sequential(). It consists of a Flatten layer to convert the 2D images into a 1D array, a fully connected Dense layer with ReLU activation, and a final Dense layer with softmax activation for multi-class classification."
   ],
   "metadata": {
    "collapsed": false
   }
  },
  {
   "cell_type": "code",
   "execution_count": null,
   "metadata": {
    "collapsed": true
   },
   "outputs": [],
   "source": [
    "# Specify the Neural Network Architecture\n",
    "model = keras.Sequential([\n",
    "    keras.layers.Flatten(input_shape=(28, 28)),\n",
    "    keras.layers.Dense(128, activation='relu'),\n",
    "    keras.layers.Dense(10, activation='softmax')\n",
    "])"
   ]
  },
  {
   "cell_type": "markdown",
   "source": [
    "Model Compilation: The model is compiled using model.compile(). We specify the optimizer as 'adam', the loss function as 'sparse_categorical_crossentropy' (suitable for integer labels), and the evaluation metric as accuracy."
   ],
   "metadata": {
    "collapsed": false
   }
  },
  {
   "cell_type": "code",
   "execution_count": null,
   "outputs": [],
   "source": [
    "# Model Compilation\n",
    "model.compile(optimizer='adam',\n",
    "              loss='sparse_categorical_crossentropy',\n",
    "              metrics=['accuracy'])"
   ],
   "metadata": {
    "collapsed": false
   }
  },
  {
   "cell_type": "markdown",
   "source": [
    "Model Training: The model is trained on the training data using model.fit(). We specify the number of epochs (5) and the batch size (32)."
   ],
   "metadata": {
    "collapsed": false
   }
  },
  {
   "cell_type": "code",
   "execution_count": null,
   "outputs": [],
   "source": [
    "# Model Training\n",
    "model.fit(x_train, y_train, epochs=5, batch_size=32)"
   ],
   "metadata": {
    "collapsed": false
   }
  },
  {
   "cell_type": "markdown",
   "source": [
    "Model Evaluation: The model is evaluated on the testing data using model.evaluate(), which returns the test loss and test accuracy."
   ],
   "metadata": {
    "collapsed": false
   }
  },
  {
   "cell_type": "code",
   "execution_count": null,
   "outputs": [],
   "source": [
    "# Step 5: Model Evaluation\n",
    "test_loss, test_acc = model.evaluate(x_test, y_test)\n",
    "print('Test loss:', test_loss)\n",
    "print('Test accuracy:', test_acc)"
   ],
   "metadata": {
    "collapsed": false
   }
  },
  {
   "cell_type": "markdown",
   "source": [
    "Model Testing: The model is used to make predictions on the first five examples from the testing data. The predictions are obtained using model.predict(), and the predicted labels and true labels are displayed."
   ],
   "metadata": {
    "collapsed": false
   }
  },
  {
   "cell_type": "code",
   "execution_count": null,
   "outputs": [],
   "source": [
    "# Model Testing\n",
    "predictions = model.predict(x_test[:5])\n",
    "for i in range(5):\n",
    "    predicted_label = tf.argmax(predictions[i])\n",
    "    true_label = y_test[i]\n",
    "    print(\"Predicted label:\", predicted_label.numpy())\n",
    "    print(\"True label:\", true_label)"
   ],
   "metadata": {
    "collapsed": false
   }
  }
 ],
 "metadata": {
  "kernelspec": {
   "display_name": "Python 3",
   "language": "python",
   "name": "python3"
  },
  "language_info": {
   "codemirror_mode": {
    "name": "ipython",
    "version": 2
   },
   "file_extension": ".py",
   "mimetype": "text/x-python",
   "name": "python",
   "nbconvert_exporter": "python",
   "pygments_lexer": "ipython2",
   "version": "2.7.6"
  }
 },
 "nbformat": 4,
 "nbformat_minor": 0
}
